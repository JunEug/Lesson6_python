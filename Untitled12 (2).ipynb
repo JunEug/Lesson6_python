{
 "cells": [
  {
   "cell_type": "code",
   "execution_count": 7,
   "id": "9ff8615e",
   "metadata": {},
   "outputs": [],
   "source": [
    "#Задание 1\n",
    "import pandas as pd\n",
    "import numpy as np"
   ]
  },
  {
   "cell_type": "code",
   "execution_count": 8,
   "id": "88d073cb",
   "metadata": {},
   "outputs": [
    {
     "name": "stdout",
     "output_type": "stream",
     "text": [
      "      movieId                                      title  \\\n",
      "0           1                           Toy Story (1995)   \n",
      "1           2                             Jumanji (1995)   \n",
      "2           3                    Grumpier Old Men (1995)   \n",
      "3           4                   Waiting to Exhale (1995)   \n",
      "4           5         Father of the Bride Part II (1995)   \n",
      "...       ...                                        ...   \n",
      "9737   193581  Black Butler: Book of the Atlantic (2017)   \n",
      "9738   193583               No Game No Life: Zero (2017)   \n",
      "9739   193585                               Flint (2017)   \n",
      "9740   193587        Bungo Stray Dogs: Dead Apple (2018)   \n",
      "9741   193609        Andrew Dice Clay: Dice Rules (1991)   \n",
      "\n",
      "                                           genres  \n",
      "0     Adventure|Animation|Children|Comedy|Fantasy  \n",
      "1                      Adventure|Children|Fantasy  \n",
      "2                                  Comedy|Romance  \n",
      "3                            Comedy|Drama|Romance  \n",
      "4                                          Comedy  \n",
      "...                                           ...  \n",
      "9737              Action|Animation|Comedy|Fantasy  \n",
      "9738                     Animation|Comedy|Fantasy  \n",
      "9739                                        Drama  \n",
      "9740                             Action|Animation  \n",
      "9741                                       Comedy  \n",
      "\n",
      "[9742 rows x 3 columns]\n"
     ]
    }
   ],
   "source": [
    "df = pd.read_csv(\"./dz_files/dz1/movies.csv\")\n",
    "df1 = pd.read_csv(\"./dz_files/dz1/ratings.csv\")\n",
    "print(df)"
   ]
  },
  {
   "cell_type": "code",
   "execution_count": 9,
   "id": "23019d9e",
   "metadata": {},
   "outputs": [
    {
     "name": "stdout",
     "output_type": "stream",
     "text": [
      "        userId  movieId  rating   timestamp\n",
      "0            1        1     4.0   964982703\n",
      "1            1        3     4.0   964981247\n",
      "2            1        6     4.0   964982224\n",
      "3            1       47     5.0   964983815\n",
      "4            1       50     5.0   964982931\n",
      "...        ...      ...     ...         ...\n",
      "100831     610   166534     4.0  1493848402\n",
      "100832     610   168248     5.0  1493850091\n",
      "100833     610   168250     5.0  1494273047\n",
      "100834     610   168252     5.0  1493846352\n",
      "100835     610   170875     3.0  1493846415\n",
      "\n",
      "[100836 rows x 4 columns]\n"
     ]
    }
   ],
   "source": [
    "print(df1)"
   ]
  },
  {
   "cell_type": "code",
   "execution_count": 10,
   "id": "2148588d",
   "metadata": {},
   "outputs": [],
   "source": [
    "df1 = df1.merge(df,how='outer',left_on=['movieId'],right_on=['movieId'])\n"
   ]
  },
  {
   "cell_type": "code",
   "execution_count": 11,
   "id": "c4bf33d8",
   "metadata": {},
   "outputs": [
    {
     "name": "stdout",
     "output_type": "stream",
     "text": [
      "        userId  movieId  rating     timestamp  \\\n",
      "0          1.0        1     4.0  9.649827e+08   \n",
      "1          5.0        1     4.0  8.474350e+08   \n",
      "2          7.0        1     4.5  1.106636e+09   \n",
      "3         15.0        1     2.5  1.510578e+09   \n",
      "4         17.0        1     4.5  1.305696e+09   \n",
      "...        ...      ...     ...           ...   \n",
      "100849     NaN    30892     NaN           NaN   \n",
      "100850     NaN    32160     NaN           NaN   \n",
      "100851     NaN    32371     NaN           NaN   \n",
      "100852     NaN    34482     NaN           NaN   \n",
      "100853     NaN    85565     NaN           NaN   \n",
      "\n",
      "                                     title  \\\n",
      "0                         Toy Story (1995)   \n",
      "1                         Toy Story (1995)   \n",
      "2                         Toy Story (1995)   \n",
      "3                         Toy Story (1995)   \n",
      "4                         Toy Story (1995)   \n",
      "...                                    ...   \n",
      "100849  In the Realms of the Unreal (2004)   \n",
      "100850            Twentieth Century (1934)   \n",
      "100851           Call Northside 777 (1948)   \n",
      "100852        Browning Version, The (1951)   \n",
      "100853                  Chalet Girl (2011)   \n",
      "\n",
      "                                             genres  \n",
      "0       Adventure|Animation|Children|Comedy|Fantasy  \n",
      "1       Adventure|Animation|Children|Comedy|Fantasy  \n",
      "2       Adventure|Animation|Children|Comedy|Fantasy  \n",
      "3       Adventure|Animation|Children|Comedy|Fantasy  \n",
      "4       Adventure|Animation|Children|Comedy|Fantasy  \n",
      "...                                             ...  \n",
      "100849                        Animation|Documentary  \n",
      "100850                                       Comedy  \n",
      "100851                        Crime|Drama|Film-Noir  \n",
      "100852                                        Drama  \n",
      "100853                               Comedy|Romance  \n",
      "\n",
      "[100854 rows x 6 columns]\n"
     ]
    }
   ],
   "source": [
    "print(df1)"
   ]
  },
  {
   "cell_type": "code",
   "execution_count": 17,
   "id": "de81ffdf",
   "metadata": {},
   "outputs": [],
   "source": [
    "def classify_movies(df1): \n",
    "    df1['class'] = '' \n",
    "    df1.loc[df1['rating'] <= 2, 'class'] = 'низкий рейтинг' \n",
    "    df1.loc[(df1['rating'] > 2) & (df1['rating'] <= 4), 'class'] = 'средний рейтинг' \n",
    "    df1.loc[(df1['rating'] == 4.5) | (df1['rating'] == 5), 'class'] = 'высокий рейтинг' \n",
    "    return df1"
   ]
  },
  {
   "cell_type": "code",
   "execution_count": 18,
   "id": "2603836f",
   "metadata": {},
   "outputs": [
    {
     "data": {
      "text/html": [
       "<div>\n",
       "<style scoped>\n",
       "    .dataframe tbody tr th:only-of-type {\n",
       "        vertical-align: middle;\n",
       "    }\n",
       "\n",
       "    .dataframe tbody tr th {\n",
       "        vertical-align: top;\n",
       "    }\n",
       "\n",
       "    .dataframe thead th {\n",
       "        text-align: right;\n",
       "    }\n",
       "</style>\n",
       "<table border=\"1\" class=\"dataframe\">\n",
       "  <thead>\n",
       "    <tr style=\"text-align: right;\">\n",
       "      <th></th>\n",
       "      <th>userId</th>\n",
       "      <th>movieId</th>\n",
       "      <th>rating</th>\n",
       "      <th>timestamp</th>\n",
       "      <th>title</th>\n",
       "      <th>genres</th>\n",
       "      <th>class</th>\n",
       "    </tr>\n",
       "  </thead>\n",
       "  <tbody>\n",
       "    <tr>\n",
       "      <th>0</th>\n",
       "      <td>1.0</td>\n",
       "      <td>1</td>\n",
       "      <td>4.0</td>\n",
       "      <td>9.649827e+08</td>\n",
       "      <td>Toy Story (1995)</td>\n",
       "      <td>Adventure|Animation|Children|Comedy|Fantasy</td>\n",
       "      <td>средний рейтинг</td>\n",
       "    </tr>\n",
       "    <tr>\n",
       "      <th>1</th>\n",
       "      <td>5.0</td>\n",
       "      <td>1</td>\n",
       "      <td>4.0</td>\n",
       "      <td>8.474350e+08</td>\n",
       "      <td>Toy Story (1995)</td>\n",
       "      <td>Adventure|Animation|Children|Comedy|Fantasy</td>\n",
       "      <td>средний рейтинг</td>\n",
       "    </tr>\n",
       "    <tr>\n",
       "      <th>2</th>\n",
       "      <td>7.0</td>\n",
       "      <td>1</td>\n",
       "      <td>4.5</td>\n",
       "      <td>1.106636e+09</td>\n",
       "      <td>Toy Story (1995)</td>\n",
       "      <td>Adventure|Animation|Children|Comedy|Fantasy</td>\n",
       "      <td>высокий рейтинг</td>\n",
       "    </tr>\n",
       "    <tr>\n",
       "      <th>3</th>\n",
       "      <td>15.0</td>\n",
       "      <td>1</td>\n",
       "      <td>2.5</td>\n",
       "      <td>1.510578e+09</td>\n",
       "      <td>Toy Story (1995)</td>\n",
       "      <td>Adventure|Animation|Children|Comedy|Fantasy</td>\n",
       "      <td>средний рейтинг</td>\n",
       "    </tr>\n",
       "    <tr>\n",
       "      <th>4</th>\n",
       "      <td>17.0</td>\n",
       "      <td>1</td>\n",
       "      <td>4.5</td>\n",
       "      <td>1.305696e+09</td>\n",
       "      <td>Toy Story (1995)</td>\n",
       "      <td>Adventure|Animation|Children|Comedy|Fantasy</td>\n",
       "      <td>высокий рейтинг</td>\n",
       "    </tr>\n",
       "    <tr>\n",
       "      <th>...</th>\n",
       "      <td>...</td>\n",
       "      <td>...</td>\n",
       "      <td>...</td>\n",
       "      <td>...</td>\n",
       "      <td>...</td>\n",
       "      <td>...</td>\n",
       "      <td>...</td>\n",
       "    </tr>\n",
       "    <tr>\n",
       "      <th>100849</th>\n",
       "      <td>NaN</td>\n",
       "      <td>30892</td>\n",
       "      <td>NaN</td>\n",
       "      <td>NaN</td>\n",
       "      <td>In the Realms of the Unreal (2004)</td>\n",
       "      <td>Animation|Documentary</td>\n",
       "      <td></td>\n",
       "    </tr>\n",
       "    <tr>\n",
       "      <th>100850</th>\n",
       "      <td>NaN</td>\n",
       "      <td>32160</td>\n",
       "      <td>NaN</td>\n",
       "      <td>NaN</td>\n",
       "      <td>Twentieth Century (1934)</td>\n",
       "      <td>Comedy</td>\n",
       "      <td></td>\n",
       "    </tr>\n",
       "    <tr>\n",
       "      <th>100851</th>\n",
       "      <td>NaN</td>\n",
       "      <td>32371</td>\n",
       "      <td>NaN</td>\n",
       "      <td>NaN</td>\n",
       "      <td>Call Northside 777 (1948)</td>\n",
       "      <td>Crime|Drama|Film-Noir</td>\n",
       "      <td></td>\n",
       "    </tr>\n",
       "    <tr>\n",
       "      <th>100852</th>\n",
       "      <td>NaN</td>\n",
       "      <td>34482</td>\n",
       "      <td>NaN</td>\n",
       "      <td>NaN</td>\n",
       "      <td>Browning Version, The (1951)</td>\n",
       "      <td>Drama</td>\n",
       "      <td></td>\n",
       "    </tr>\n",
       "    <tr>\n",
       "      <th>100853</th>\n",
       "      <td>NaN</td>\n",
       "      <td>85565</td>\n",
       "      <td>NaN</td>\n",
       "      <td>NaN</td>\n",
       "      <td>Chalet Girl (2011)</td>\n",
       "      <td>Comedy|Romance</td>\n",
       "      <td></td>\n",
       "    </tr>\n",
       "  </tbody>\n",
       "</table>\n",
       "<p>100854 rows × 7 columns</p>\n",
       "</div>"
      ],
      "text/plain": [
       "        userId  movieId  rating     timestamp  \\\n",
       "0          1.0        1     4.0  9.649827e+08   \n",
       "1          5.0        1     4.0  8.474350e+08   \n",
       "2          7.0        1     4.5  1.106636e+09   \n",
       "3         15.0        1     2.5  1.510578e+09   \n",
       "4         17.0        1     4.5  1.305696e+09   \n",
       "...        ...      ...     ...           ...   \n",
       "100849     NaN    30892     NaN           NaN   \n",
       "100850     NaN    32160     NaN           NaN   \n",
       "100851     NaN    32371     NaN           NaN   \n",
       "100852     NaN    34482     NaN           NaN   \n",
       "100853     NaN    85565     NaN           NaN   \n",
       "\n",
       "                                     title  \\\n",
       "0                         Toy Story (1995)   \n",
       "1                         Toy Story (1995)   \n",
       "2                         Toy Story (1995)   \n",
       "3                         Toy Story (1995)   \n",
       "4                         Toy Story (1995)   \n",
       "...                                    ...   \n",
       "100849  In the Realms of the Unreal (2004)   \n",
       "100850            Twentieth Century (1934)   \n",
       "100851           Call Northside 777 (1948)   \n",
       "100852        Browning Version, The (1951)   \n",
       "100853                  Chalet Girl (2011)   \n",
       "\n",
       "                                             genres            class  \n",
       "0       Adventure|Animation|Children|Comedy|Fantasy  средний рейтинг  \n",
       "1       Adventure|Animation|Children|Comedy|Fantasy  средний рейтинг  \n",
       "2       Adventure|Animation|Children|Comedy|Fantasy  высокий рейтинг  \n",
       "3       Adventure|Animation|Children|Comedy|Fantasy  средний рейтинг  \n",
       "4       Adventure|Animation|Children|Comedy|Fantasy  высокий рейтинг  \n",
       "...                                             ...              ...  \n",
       "100849                        Animation|Documentary                   \n",
       "100850                                       Comedy                   \n",
       "100851                        Crime|Drama|Film-Noir                   \n",
       "100852                                        Drama                   \n",
       "100853                               Comedy|Romance                   \n",
       "\n",
       "[100854 rows x 7 columns]"
      ]
     },
     "execution_count": 18,
     "metadata": {},
     "output_type": "execute_result"
    }
   ],
   "source": [
    "classify_movies(df1)"
   ]
  },
  {
   "cell_type": "code",
   "execution_count": 19,
   "id": "04a7d85c",
   "metadata": {},
   "outputs": [],
   "source": [
    "df = pd.read_csv(\"./dz_files/dz2/keywords.csv\")"
   ]
  },
  {
   "cell_type": "code",
   "execution_count": 20,
   "id": "9c0c381f",
   "metadata": {},
   "outputs": [
    {
     "name": "stdout",
     "output_type": "stream",
     "text": [
      "                       keyword     shows\n",
      "0                           вк  64292779\n",
      "1                одноклассники  63810309\n",
      "2                        порно  41747114\n",
      "3                         ютуб  39995567\n",
      "4                    вконтакте  21014195\n",
      "...                        ...       ...\n",
      "99995   эльдорадо старый оскол      3705\n",
      "99996      frigate для firefox      3630\n",
      "99997                   укрсиб      3630\n",
      "99998  погода в ялте на неделю      3688\n",
      "99999                     ггму      3630\n",
      "\n",
      "[100000 rows x 2 columns]\n"
     ]
    }
   ],
   "source": [
    "print(df)"
   ]
  },
  {
   "cell_type": "code",
   "execution_count": 51,
   "id": "79126208",
   "metadata": {},
   "outputs": [],
   "source": [
    "def geo_classifier(keyword):\n",
    "    geo_data = {\n",
    "        'Центр': ['москва', 'тула', 'ярославль'],\n",
    "        'Северо-Запад': ['петербург', 'псков', 'мурманск'],\n",
    "        'Дальний Восток': ['владивосток', 'сахалин', 'хабаровск']\n",
    "    }\n",
    "\n",
    "    for region, cities in geo_data.items():\n",
    "        for city in cities:\n",
    "            if city in keyword:\n",
    "                return region\n",
    "\n",
    "    return 'undefined'"
   ]
  },
  {
   "cell_type": "code",
   "execution_count": 54,
   "id": "c89279c9",
   "metadata": {},
   "outputs": [],
   "source": [
    "df['region'] = df.apply(geo_classifier, axis=1)"
   ]
  },
  {
   "cell_type": "code",
   "execution_count": 60,
   "id": "9d1ac1db",
   "metadata": {},
   "outputs": [
    {
     "name": "stdout",
     "output_type": "stream",
     "text": [
      "                       keyword     shows     region\n",
      "0                           вк  64292779  undefined\n",
      "1                одноклассники  63810309  undefined\n",
      "2                        порно  41747114  undefined\n",
      "3                         ютуб  39995567  undefined\n",
      "4                    вконтакте  21014195  undefined\n",
      "...                        ...       ...        ...\n",
      "99995   эльдорадо старый оскол      3705  undefined\n",
      "99996      frigate для firefox      3630  undefined\n",
      "99997                   укрсиб      3630  undefined\n",
      "99998  погода в ялте на неделю      3688  undefined\n",
      "99999                     ггму      3630  undefined\n",
      "\n",
      "[100000 rows x 3 columns]\n"
     ]
    }
   ],
   "source": [
    "print(df)"
   ]
  },
  {
   "cell_type": "code",
   "execution_count": null,
   "id": "dd7b7d81",
   "metadata": {},
   "outputs": [],
   "source": []
  },
  {
   "cell_type": "code",
   "execution_count": null,
   "id": "94b8546c",
   "metadata": {},
   "outputs": [],
   "source": []
  }
 ],
 "metadata": {
  "kernelspec": {
   "display_name": "Python 3 (ipykernel)",
   "language": "python",
   "name": "python3"
  },
  "language_info": {
   "codemirror_mode": {
    "name": "ipython",
    "version": 3
   },
   "file_extension": ".py",
   "mimetype": "text/x-python",
   "name": "python",
   "nbconvert_exporter": "python",
   "pygments_lexer": "ipython3",
   "version": "3.11.5"
  }
 },
 "nbformat": 4,
 "nbformat_minor": 5
}
